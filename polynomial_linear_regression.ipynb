{
 "cells": [
  {
   "cell_type": "code",
   "execution_count": 1,
   "id": "2f3bc3c4-586e-4d4a-b785-81c62f055526",
   "metadata": {},
   "outputs": [
    {
     "name": "stderr",
     "output_type": "stream",
     "text": [
      "C:\\Users\\Shree\\AppData\\Local\\Temp\\ipykernel_52060\\3623895822.py:1: DeprecationWarning: \n",
      "Pyarrow will become a required dependency of pandas in the next major release of pandas (pandas 3.0),\n",
      "(to allow more performant data types, such as the Arrow string type, and better interoperability with other libraries)\n",
      "but was not found to be installed on your system.\n",
      "If this would cause problems for you,\n",
      "please provide us feedback at https://github.com/pandas-dev/pandas/issues/54466\n",
      "        \n",
      "  import pandas as pd\n"
     ]
    }
   ],
   "source": [
    "import pandas as pd\n",
    "df = pd.read_csv(\"Ice_cream.csv\")"
   ]
  },
  {
   "cell_type": "code",
   "execution_count": 2,
   "id": "2b7bd5db-90e2-4d23-9954-fd7e5ff9454d",
   "metadata": {},
   "outputs": [
    {
     "data": {
      "text/html": [
       "<div>\n",
       "<style scoped>\n",
       "    .dataframe tbody tr th:only-of-type {\n",
       "        vertical-align: middle;\n",
       "    }\n",
       "\n",
       "    .dataframe tbody tr th {\n",
       "        vertical-align: top;\n",
       "    }\n",
       "\n",
       "    .dataframe thead th {\n",
       "        text-align: right;\n",
       "    }\n",
       "</style>\n",
       "<table border=\"1\" class=\"dataframe\">\n",
       "  <thead>\n",
       "    <tr style=\"text-align: right;\">\n",
       "      <th></th>\n",
       "      <th>Temperature (°C)</th>\n",
       "      <th>Ice Cream Sales (units)</th>\n",
       "    </tr>\n",
       "  </thead>\n",
       "  <tbody>\n",
       "    <tr>\n",
       "      <th>0</th>\n",
       "      <td>-4.662263</td>\n",
       "      <td>41.842986</td>\n",
       "    </tr>\n",
       "    <tr>\n",
       "      <th>1</th>\n",
       "      <td>-4.316559</td>\n",
       "      <td>34.661120</td>\n",
       "    </tr>\n",
       "    <tr>\n",
       "      <th>2</th>\n",
       "      <td>-4.213985</td>\n",
       "      <td>39.383001</td>\n",
       "    </tr>\n",
       "    <tr>\n",
       "      <th>3</th>\n",
       "      <td>-3.949661</td>\n",
       "      <td>37.539845</td>\n",
       "    </tr>\n",
       "    <tr>\n",
       "      <th>4</th>\n",
       "      <td>-3.578554</td>\n",
       "      <td>32.284531</td>\n",
       "    </tr>\n",
       "  </tbody>\n",
       "</table>\n",
       "</div>"
      ],
      "text/plain": [
       "   Temperature (°C)  Ice Cream Sales (units)\n",
       "0         -4.662263                41.842986\n",
       "1         -4.316559                34.661120\n",
       "2         -4.213985                39.383001\n",
       "3         -3.949661                37.539845\n",
       "4         -3.578554                32.284531"
      ]
     },
     "execution_count": 2,
     "metadata": {},
     "output_type": "execute_result"
    }
   ],
   "source": [
    "df.head()"
   ]
  },
  {
   "cell_type": "code",
   "execution_count": 3,
   "id": "4019367b-312e-41d5-bc26-a0a4810671cc",
   "metadata": {},
   "outputs": [],
   "source": [
    "import numpy as np\n",
    "x=df.iloc[:,:1]\n",
    "y= df.iloc[:,-1]\n",
    "\n",
    "total_sample = x.shape[0]\n",
    "\n",
    "ones = np.ones(x.shape[0])\n",
    "\n",
    "x.insert(0,\"x0\",ones)\n",
    "\n",
    "theta = np.zeros((3,1))"
   ]
  },
  {
   "cell_type": "code",
   "execution_count": 4,
   "id": "3336a45c-be38-4012-9409-841517ad04a0",
   "metadata": {},
   "outputs": [
    {
     "data": {
      "text/html": [
       "<div>\n",
       "<style scoped>\n",
       "    .dataframe tbody tr th:only-of-type {\n",
       "        vertical-align: middle;\n",
       "    }\n",
       "\n",
       "    .dataframe tbody tr th {\n",
       "        vertical-align: top;\n",
       "    }\n",
       "\n",
       "    .dataframe thead th {\n",
       "        text-align: right;\n",
       "    }\n",
       "</style>\n",
       "<table border=\"1\" class=\"dataframe\">\n",
       "  <thead>\n",
       "    <tr style=\"text-align: right;\">\n",
       "      <th></th>\n",
       "      <th>x0</th>\n",
       "      <th>Temperature (°C)</th>\n",
       "      <th>temp^2</th>\n",
       "    </tr>\n",
       "  </thead>\n",
       "  <tbody>\n",
       "    <tr>\n",
       "      <th>0</th>\n",
       "      <td>1.0</td>\n",
       "      <td>-4.662263</td>\n",
       "      <td>21.736693</td>\n",
       "    </tr>\n",
       "    <tr>\n",
       "      <th>1</th>\n",
       "      <td>1.0</td>\n",
       "      <td>-4.316559</td>\n",
       "      <td>18.632685</td>\n",
       "    </tr>\n",
       "    <tr>\n",
       "      <th>2</th>\n",
       "      <td>1.0</td>\n",
       "      <td>-4.213985</td>\n",
       "      <td>17.757668</td>\n",
       "    </tr>\n",
       "    <tr>\n",
       "      <th>3</th>\n",
       "      <td>1.0</td>\n",
       "      <td>-3.949661</td>\n",
       "      <td>15.599823</td>\n",
       "    </tr>\n",
       "    <tr>\n",
       "      <th>4</th>\n",
       "      <td>1.0</td>\n",
       "      <td>-3.578554</td>\n",
       "      <td>12.806047</td>\n",
       "    </tr>\n",
       "  </tbody>\n",
       "</table>\n",
       "</div>"
      ],
      "text/plain": [
       "    x0  Temperature (°C)     temp^2\n",
       "0  1.0         -4.662263  21.736693\n",
       "1  1.0         -4.316559  18.632685\n",
       "2  1.0         -4.213985  17.757668\n",
       "3  1.0         -3.949661  15.599823\n",
       "4  1.0         -3.578554  12.806047"
      ]
     },
     "execution_count": 4,
     "metadata": {},
     "output_type": "execute_result"
    }
   ],
   "source": [
    "x_square = np.square(x.iloc[:,1])\n",
    "x.insert(2, \"temp^2\",x_square )\n",
    "x.head()"
   ]
  },
  {
   "cell_type": "code",
   "execution_count": 5,
   "id": "9edd48e8-0b9b-4ff2-a255-731cb83ebb18",
   "metadata": {},
   "outputs": [],
   "source": [
    "import matplotlib.pyplot as plt\n",
    "def plot_graph(x,y):\n",
    "    plt.scatter(x,y)"
   ]
  },
  {
   "cell_type": "code",
   "execution_count": 6,
   "id": "d1a66aae-99f7-4489-9c14-e497a7a13c71",
   "metadata": {},
   "outputs": [
    {
     "data": {
      "image/png": "[encoded data removed]",
      "text/plain": [
       "<Figure size 640x480 with 1 Axes>"
      ]
     },
     "metadata": {},
     "output_type": "display_data"
    }
   ],
   "source": [
    "plot_graph(x.iloc[:,1],y)"
   ]
  },
  {
   "cell_type": "code",
   "execution_count": 7,
   "id": "f20772b4-0d5c-427e-a756-9e1d6be2bb1d",
   "metadata": {},
   "outputs": [],
   "source": [
    "x= x.to_numpy()\n",
    "y= y.to_numpy().reshape((total_sample,1))"
   ]
  },
  {
   "cell_type": "code",
   "execution_count": 8,
   "id": "371c4373-2aea-4fb9-bf36-76d79bc9fcc7",
   "metadata": {},
   "outputs": [],
   "source": [
    "def hypothesis(X,O):\n",
    "    return np.matmul(X,O)"
   ]
  },
  {
   "cell_type": "code",
   "execution_count": 9,
   "id": "74c1250c-8fc0-4f36-8ebc-a18464cb31dd",
   "metadata": {},
   "outputs": [
    {
     "name": "stdout",
     "output_type": "stream",
     "text": [
      "(49, 3)\n",
      "(3, 1)\n"
     ]
    }
   ],
   "source": [
    "print(x.shape)\n",
    "print(theta.shape)"
   ]
  },
  {
   "cell_type": "code",
   "execution_count": 19,
   "id": "809f3b35-a11f-4af8-97b0-ebcfde059d5b",
   "metadata": {},
   "outputs": [
    {
     "data": {
      "text/plain": [
       "49"
      ]
     },
     "execution_count": 19,
     "metadata": {},
     "output_type": "execute_result"
    }
   ],
   "source": [
    "h = hypothesis(x,theta)"
   ]
  },
  {
   "cell_type": "code",
   "execution_count": 11,
   "id": "11c257dc-ab67-46f3-8913-8afb4f7829bf",
   "metadata": {},
   "outputs": [
    {
     "name": "stdout",
     "output_type": "stream",
     "text": [
      "(3, 1)\n",
      "(49, 3)\n",
      "(49, 1)\n"
     ]
    }
   ],
   "source": [
    "print(theta.shape)\n",
    "print(x.shape)\n",
    "print(y.shape)\n"
   ]
  },
  {
   "cell_type": "code",
   "execution_count": 21,
   "id": "fcfb453e-aacd-4574-b0cb-66dd7880efea",
   "metadata": {},
   "outputs": [],
   "source": [
    "def cost_function(O,X,y,m):\n",
    "    h = hypothesis(X,O)\n",
    "    return (1/2 * m) * sum(np.square((h-y)))\n",
    "    "
   ]
  },
  {
   "cell_type": "code",
   "execution_count": 22,
   "id": "831c04c9-2916-4c34-ae6a-c166ffd01c69",
   "metadata": {},
   "outputs": [
    {
     "data": {
      "text/plain": [
       "array([12008.86632429])"
      ]
     },
     "execution_count": 22,
     "metadata": {},
     "output_type": "execute_result"
    }
   ],
   "source": [
    "no_of_features = x.shape[0]\n",
    "cost_function(theta,x,y,total_sample)"
   ]
  },
  {
   "cell_type": "code",
   "execution_count": 23,
   "id": "204e8f0d-9b1e-44ce-8683-bf065c2756ee",
   "metadata": {},
   "outputs": [],
   "source": [
    "def gradient_decent(o,alpha,x,y,m):\n",
    "    cost_history=[]\n",
    "    while True:\n",
    "        hyp= hypothesis(x,o)\n",
    "        sub=hyp-y\n",
    "        prev_cost = cost_function(o,x,y,m)\n",
    "        o=o-(alpha/m)*(np.matmul(np.transpose(x),sub))\n",
    "        new_cost=cost_function(o,x,y,m)\n",
    "        cost_history.append(new_cost)\n",
    "        if new_cost == prev_cost:\n",
    "            return o,cost_history"
   ]
  },
  {
   "cell_type": "code",
   "execution_count": 24,
   "id": "0dc4a91e-8c96-4373-8ec6-8165b65b497f",
   "metadata": {},
   "outputs": [],
   "source": [
    "theta, cost_history = gradient_decent(theta,0.001,x,y,total_sample)\n"
   ]
  },
  {
   "cell_type": "code",
   "execution_count": 25,
   "id": "003e7b08-7ba2-4dde-b672-e648ea90829b",
   "metadata": {},
   "outputs": [
    {
     "data": {
      "text/plain": [
       "array([[ 2.95176925],\n",
       "       [-0.82468159],\n",
       "       [ 1.82952662]])"
      ]
     },
     "execution_count": 25,
     "metadata": {},
     "output_type": "execute_result"
    }
   ],
   "source": [
    "theta"
   ]
  },
  {
   "cell_type": "code",
   "execution_count": 29,
   "id": "c426dcba-69ef-4c10-a5cc-85e01add517b",
   "metadata": {},
   "outputs": [],
   "source": [
    "def mean_square_error(h,y):\n",
    "    return sum(np.square(h-y))/len(y)"
   ]
  },
  {
   "cell_type": "code",
   "execution_count": 30,
   "id": "329b530a-e059-4b3f-a98d-8eec62968eea",
   "metadata": {},
   "outputs": [
    {
     "data": {
      "text/plain": [
       "array([10.00322059])"
      ]
     },
     "execution_count": 30,
     "metadata": {},
     "output_type": "execute_result"
    }
   ],
   "source": [
    "mean_square_error(h,y)"
   ]
  },
  {
   "cell_type": "code",
   "execution_count": 31,
   "id": "9e90891a-1183-42a4-867a-22bc179872fb",
   "metadata": {},
   "outputs": [],
   "source": [
    "import matplotlib.pyplot as plt\n",
    "def plotline(x,y,theta):\n",
    "    plt.scatter(x[:,1],y)\n",
    "    plt.plot(x[:,1],hypothesis(x,theta),\"r\")\n",
    "    plt.xlabel(\"X\")\n",
    "    plt.ylabel(\"Y\")\n",
    "    plt.title('Simple Plot')"
   ]
  },
  {
   "cell_type": "code",
   "execution_count": 32,
   "id": "41bca7f4-b5eb-4334-ba6e-c93c6a795bca",
   "metadata": {},
   "outputs": [
    {
     "data": {
      "image/png": "[encoded data removed]",
      "text/plain": [
       "<Figure size 640x480 with 1 Axes>"
      ]
     },
     "metadata": {},
     "output_type": "display_data"
    }
   ],
   "source": [
    "plotline(x,y,theta)"
   ]
  },
  {
   "cell_type": "code",
   "execution_count": null,
   "id": "7f604228-9077-4c65-8bca-0f0418dd3a45",
   "metadata": {},
   "outputs": [],
   "source": []
  }
 ],
 "metadata": {
  "kernelspec": {
   "display_name": "Python 3 (ipykernel)",
   "language": "python",
   "name": "python3"
  },
  "language_info": {
   "codemirror_mode": {
    "name": "ipython",
    "version": 3
   },
   "file_extension": ".py",
   "mimetype": "text/x-python",
   "name": "python",
   "nbconvert_exporter": "python",
   "pygments_lexer": "ipython3",
   "version": "3.12.0"
  }
 },
 "nbformat": 4,
 "nbformat_minor": 5
}
