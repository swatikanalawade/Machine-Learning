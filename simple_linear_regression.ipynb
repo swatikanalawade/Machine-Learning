{
 "cells": [
  {
   "cell_type": "code",
   "execution_count": 1,
   "id": "e08ef3ba-ba6b-4ad4-9a25-d700a8e1a969",
   "metadata": {},
   "outputs": [
    {
     "name": "stderr",
     "output_type": "stream",
     "text": [
      "C:\\Users\\Shree\\AppData\\Local\\Temp\\ipykernel_1596\\2895976479.py:1: DeprecationWarning: \n",
      "Pyarrow will become a required dependency of pandas in the next major release of pandas (pandas 3.0),\n",
      "(to allow more performant data types, such as the Arrow string type, and better interoperability with other libraries)\n",
      "but was not found to be installed on your system.\n",
      "If this would cause problems for you,\n",
      "please provide us feedback at https://github.com/pandas-dev/pandas/issues/54466\n",
      "        \n",
      "  import pandas as pd\n"
     ]
    }
   ],
   "source": [
    "import pandas as pd\n",
    "data = pd.read_csv(\"ex1data1.csv\")"
   ]
  },
  {
   "cell_type": "code",
   "execution_count": 2,
   "id": "3376f9bd-5f87-481b-98c8-342e4a269ffd",
   "metadata": {},
   "outputs": [
    {
     "data": {
      "text/plain": [
       "<bound method NDFrame.head of           x         y\n",
       "0    6.1101  17.59200\n",
       "1    5.5277   9.13020\n",
       "2    8.5186  13.66200\n",
       "3    7.0032  11.85400\n",
       "4    5.8598   6.82330\n",
       "..      ...       ...\n",
       "92   5.8707   7.20290\n",
       "93   5.3054   1.98690\n",
       "94   8.2934   0.14454\n",
       "95  13.3940   9.05510\n",
       "96   5.4369   0.61705\n",
       "\n",
       "[97 rows x 2 columns]>"
      ]
     },
     "execution_count": 2,
     "metadata": {},
     "output_type": "execute_result"
    }
   ],
   "source": [
    "data.head"
   ]
  },
  {
   "cell_type": "code",
   "execution_count": 3,
   "id": "b87db6a0-7bdc-4b51-9c1b-718e4f09d8be",
   "metadata": {},
   "outputs": [],
   "source": [
    "x= data[\"x\"]\n",
    "y=data[\"y\"]"
   ]
  },
  {
   "cell_type": "code",
   "execution_count": 4,
   "id": "f76dc0ad-44fb-4e4b-9b14-46781a63e831",
   "metadata": {},
   "outputs": [],
   "source": [
    "import matplotlib.pyplot as plt\n",
    "def plotdata(x,y):\n",
    "    plt.scatter(x,y)\n",
    "    plt.xlabel(\"X\")\n",
    "    plt.ylabel(\"Y\")\n",
    "    plt.title('Simple Plot')"
   ]
  },
  {
   "cell_type": "code",
   "execution_count": 5,
   "id": "7eb5c638-daf9-4fb3-890e-c3acb1a8e76f",
   "metadata": {},
   "outputs": [
    {
     "data": {
      "image/png": "[encoded data removed]",
      "text/plain": [
       "<Figure size 640x480 with 1 Axes>"
      ]
     },
     "metadata": {},
     "output_type": "display_data"
    }
   ],
   "source": [
    "plotdata(x,y)"
   ]
  },
  {
   "cell_type": "code",
   "execution_count": 6,
   "id": "020a2e78-0878-42ec-acb4-eb3a9123e784",
   "metadata": {},
   "outputs": [],
   "source": [
    "import numpy as np\n",
    "x=x.to_numpy().reshape(97,1)\n",
    "y=y.to_numpy().reshape(97,1)\n",
    "#print(x)\n",
    "#print(\"----------------------------\")\n",
    "#print(y)"
   ]
  },
  {
   "cell_type": "code",
   "execution_count": 7,
   "id": "6ca9a882-4371-4282-8faf-eb4190560de7",
   "metadata": {},
   "outputs": [
    {
     "name": "stdout",
     "output_type": "stream",
     "text": [
      "(97, 1)\n",
      "(97, 1)\n"
     ]
    }
   ],
   "source": [
    "print(x.shape)\n",
    "print(y.shape)"
   ]
  },
  {
   "cell_type": "code",
   "execution_count": 8,
   "id": "758ede2c-befc-4860-b625-7e241d33f488",
   "metadata": {},
   "outputs": [
    {
     "data": {
      "text/plain": [
       "(97, 1)"
      ]
     },
     "execution_count": 8,
     "metadata": {},
     "output_type": "execute_result"
    }
   ],
   "source": [
    "x0 = np.ones(x.shape).reshape(97,1)\n",
    "x0.shape"
   ]
  },
  {
   "cell_type": "code",
   "execution_count": 9,
   "id": "3e146e08-4f2e-47e7-b1b5-63f6cee29364",
   "metadata": {},
   "outputs": [],
   "source": [
    "X = np.concatenate((x0,x),axis=1)\n",
    "#print(X)"
   ]
  },
  {
   "cell_type": "code",
   "execution_count": 10,
   "id": "3e4d837d-186e-48d2-a093-a346d8c2af90",
   "metadata": {},
   "outputs": [
    {
     "name": "stdout",
     "output_type": "stream",
     "text": [
      "(2, 1)\n"
     ]
    },
    {
     "data": {
      "text/plain": [
       "array([[0.],\n",
       "       [0.]])"
      ]
     },
     "execution_count": 10,
     "metadata": {},
     "output_type": "execute_result"
    }
   ],
   "source": [
    "O = np.zeros((X.shape[1],1))\n",
    "print(O.shape)\n",
    "O"
   ]
  },
  {
   "cell_type": "markdown",
   "id": "3b946442-c40c-4f41-a385-bdfe6e50e10f",
   "metadata": {},
   "source": [
    "## Hypothesis"
   ]
  },
  {
   "cell_type": "code",
   "execution_count": 11,
   "id": "44d10de5-3e06-40c1-9716-f1ae2b955add",
   "metadata": {},
   "outputs": [],
   "source": [
    "#mx1+cx0\n",
    "def hypothesis(X,O):\n",
    "    return np.matmul(X,O)"
   ]
  },
  {
   "cell_type": "code",
   "execution_count": 12,
   "id": "a7aa590b-d3a5-4b1a-8c35-13e49c0d5ac9",
   "metadata": {},
   "outputs": [],
   "source": [
    "h = hypothesis(X,O)\n",
    "#print(h)\n"
   ]
  },
  {
   "cell_type": "markdown",
   "id": "57640c1f-31ab-498d-97ae-1fa0a4400993",
   "metadata": {},
   "source": [
    "## Cost Function"
   ]
  },
  {
   "cell_type": "code",
   "execution_count": 13,
   "id": "0829c90e-e1a2-4c19-a316-f2c01249627d",
   "metadata": {},
   "outputs": [],
   "source": [
    "# 1/2m*sum((h-y)^2) \n",
    "def cost_function(O,X,y,m):\n",
    "    h = hypothesis(X,O)\n",
    "    return (1/2 * m) * sum((h-y)**2)\n",
    "    "
   ]
  },
  {
   "cell_type": "code",
   "execution_count": 14,
   "id": "14a4caed-db92-4c62-b663-a5fae5020868",
   "metadata": {},
   "outputs": [
    {
     "data": {
      "text/plain": [
       "array([301772.35305298])"
      ]
     },
     "execution_count": 14,
     "metadata": {},
     "output_type": "execute_result"
    }
   ],
   "source": [
    "no_of_fetures = x.shape[0]\n",
    "cost_function(O,X,y,no_of_fetures)"
   ]
  },
  {
   "cell_type": "markdown",
   "id": "4e7e9bf6-a730-46ef-80b9-21c54b44e342",
   "metadata": {},
   "source": [
    "## Gradient Decent"
   ]
  },
  {
   "cell_type": "code",
   "execution_count": 15,
   "id": "72c6b762-43a8-4693-9676-9451d07b0f40",
   "metadata": {},
   "outputs": [
    {
     "data": {
      "image/png": "[encoded data removed]",
      "text/plain": [
       "<PIL.PngImagePlugin.PngImageFile image mode=RGBA size=508x131>"
      ]
     },
     "metadata": {},
     "output_type": "display_data"
    }
   ],
   "source": [
    "from PIL import Image\n",
    "from IPython.display import display\n",
    "img = Image.open('Capture.PNG')\n",
    "display(img)"
   ]
  },
  {
   "cell_type": "code",
   "execution_count": 16,
   "id": "1f037b78-140f-4c73-ab46-e786c37de694",
   "metadata": {},
   "outputs": [],
   "source": [
    "def gradient_decent(o,alpha,x,y,m):\n",
    "    cost_history=[]\n",
    "    while True:\n",
    "        hyp= hypothesis(x,o)\n",
    "        sub=hyp-y\n",
    "        prev_cost = cost_function(o,x,y,m)\n",
    "        o=o-(alpha/m)*(np.matmul(np.transpose(x),sub))\n",
    "        new_cost=cost_function(o,x,y,m)\n",
    "        cost_history.append(new_cost)\n",
    "        if new_cost == prev_cost:\n",
    "            return o,cost_history"
   ]
  },
  {
   "cell_type": "code",
   "execution_count": 17,
   "id": "4dc2b114-2040-4bb6-8921-5f166754c807",
   "metadata": {},
   "outputs": [],
   "source": [
    "no_of_features = X.shape[0]\n",
    "alpha = 0.01\n",
    "theta, cost_history = gradient_decent(O,alpha,X,y,no_of_features)"
   ]
  },
  {
   "cell_type": "markdown",
   "id": "ac16d84b-618b-42c3-9f94-a2c10ba0e529",
   "metadata": {},
   "source": [
    "## Gradient decent gaph"
   ]
  },
  {
   "cell_type": "code",
   "execution_count": 18,
   "id": "f8e96b00-d848-4e7c-ab95-237a65fc07ee",
   "metadata": {},
   "outputs": [
    {
     "data": {
      "text/plain": [
       "[<matplotlib.lines.Line2D at 0x1b0a130b890>]"
      ]
     },
     "execution_count": 18,
     "metadata": {},
     "output_type": "execute_result"
    },
    {
     "data": {
      "image/png": "[encoded data removed]",
      "text/plain": [
       "<Figure size 640x480 with 1 Axes>"
      ]
     },
     "metadata": {},
     "output_type": "display_data"
    }
   ],
   "source": [
    "plt.plot(range(len(cost_history)), cost_history)"
   ]
  },
  {
   "cell_type": "markdown",
   "id": "879f5a42-c242-46a0-af78-981652dcd836",
   "metadata": {},
   "source": [
    "## plot line"
   ]
  },
  {
   "cell_type": "code",
   "execution_count": 19,
   "id": "6dfd7e51-afe4-40cd-8b7a-d891cf54d448",
   "metadata": {},
   "outputs": [],
   "source": [
    "import matplotlib.pyplot as plt\n",
    "def plotline(x,y,theta):\n",
    "    plt.scatter(x[:,1],y)\n",
    "    plt.plot(x[:,1],hypothesis(x,theta),\"r\")\n",
    "    plt.xlabel(\"X\")\n",
    "    plt.ylabel(\"Y\")\n",
    "    plt.title('Simple Plot')"
   ]
  },
  {
   "cell_type": "code",
   "execution_count": 20,
   "id": "ca73b39e-48c2-4b2a-a921-e71037641484",
   "metadata": {},
   "outputs": [
    {
     "data": {
      "image/png": "[encoded data removed]",
      "text/plain": [
       "<Figure size 640x480 with 1 Axes>"
      ]
     },
     "metadata": {},
     "output_type": "display_data"
    }
   ],
   "source": [
    "plotline(X,y,theta)"
   ]
  },
  {
   "cell_type": "code",
   "execution_count": 21,
   "id": "e3aee2cb-1529-48f4-afd8-290ec6cf4217",
   "metadata": {},
   "outputs": [
    {
     "data": {
      "text/plain": [
       "array([8.03455555])"
      ]
     },
     "execution_count": 21,
     "metadata": {},
     "output_type": "execute_result"
    }
   ],
   "source": [
    "hypothesis(np.array([1,10]),theta)"
   ]
  },
  {
   "cell_type": "markdown",
   "id": "07b6abe4-f5c6-43a1-b606-5283aaa6f08b",
   "metadata": {},
   "source": [
    "## Mean square error"
   ]
  },
  {
   "cell_type": "code",
   "execution_count": 22,
   "id": "4df2289d-2366-4e80-ad59-1a8b2d5378aa",
   "metadata": {},
   "outputs": [],
   "source": [
    "def mean_squre_error(y,X,theta):\n",
    "    hyp=hypothesis(X,theta)\n",
    "    diff = sum((y-hyp)**2)/len(y)\n",
    "    return diff"
   ]
  },
  {
   "cell_type": "code",
   "execution_count": 23,
   "id": "95b906f6-3be9-4e27-8448-efb5486d6012",
   "metadata": {},
   "outputs": [
    {
     "data": {
      "text/plain": [
       "array([8.95394275])"
      ]
     },
     "execution_count": 23,
     "metadata": {},
     "output_type": "execute_result"
    }
   ],
   "source": [
    "mean_squre_error(y,X,theta)"
   ]
  },
  {
   "cell_type": "code",
   "execution_count": 24,
   "id": "ae73562c-7615-41c7-8256-43b2e388c146",
   "metadata": {},
   "outputs": [
    {
     "data": {
      "text/plain": [
       "array([[-3.89577718],\n",
       "       [ 1.19303327]])"
      ]
     },
     "execution_count": 24,
     "metadata": {},
     "output_type": "execute_result"
    }
   ],
   "source": [
    "theta"
   ]
  },
  {
   "cell_type": "code",
   "execution_count": null,
   "id": "4e360735-a7b7-42f5-b8a2-12d259e93ff2",
   "metadata": {},
   "outputs": [],
   "source": []
  }
 ],
 "metadata": {
  "kernelspec": {
   "display_name": "Python 3 (ipykernel)",
   "language": "python",
   "name": "python3"
  },
  "language_info": {
   "codemirror_mode": {
    "name": "ipython",
    "version": 3
   },
   "file_extension": ".py",
   "mimetype": "text/x-python",
   "name": "python",
   "nbconvert_exporter": "python",
   "pygments_lexer": "ipython3",
   "version": "3.12.0"
  }
 },
 "nbformat": 4,
 "nbformat_minor": 5
}
